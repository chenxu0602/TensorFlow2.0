{
  "nbformat": 4,
  "nbformat_minor": 0,
  "metadata": {
    "colab": {
      "name": "myLab.ipynb",
      "provenance": [],
      "collapsed_sections": [],
      "toc_visible": true,
      "include_colab_link": true
    },
    "kernelspec": {
      "name": "python3",
      "display_name": "Python 3"
    },
    "accelerator": "GPU"
  },
  "cells": [
    {
      "cell_type": "markdown",
      "metadata": {
        "id": "view-in-github",
        "colab_type": "text"
      },
      "source": [
        "<a href=\"https://colab.research.google.com/github/chenxu0602/TensorFlow2.0/blob/master/myLab.ipynb\" target=\"_parent\"><img src=\"https://colab.research.google.com/assets/colab-badge.svg\" alt=\"Open In Colab\"/></a>"
      ]
    },
    {
      "cell_type": "code",
      "metadata": {
        "id": "0jqHAC5G3kEn",
        "colab_type": "code",
        "colab": {}
      },
      "source": [
        "import os, sys\n",
        "import numpy as np\n",
        "import pandas as pd\n",
        "import tensorflow as tf\n",
        "from pathlib import Path"
      ],
      "execution_count": null,
      "outputs": []
    },
    {
      "cell_type": "code",
      "metadata": {
        "id": "F0KqbtGr5MxS",
        "colab_type": "code",
        "colab": {}
      },
      "source": [
        "from google.colab import auth\n",
        "auth.authenticate_user()"
      ],
      "execution_count": null,
      "outputs": []
    },
    {
      "cell_type": "code",
      "metadata": {
        "id": "injrjilB5dz1",
        "colab_type": "code",
        "colab": {}
      },
      "source": [
        "!curl https://sdk.cloud.google.com | bash"
      ],
      "execution_count": null,
      "outputs": []
    },
    {
      "cell_type": "code",
      "metadata": {
        "id": "0rO0_cf65qJm",
        "colab_type": "code",
        "colab": {}
      },
      "source": [
        "!gcloud init"
      ],
      "execution_count": null,
      "outputs": []
    },
    {
      "cell_type": "code",
      "metadata": {
        "id": "6QhVukyq5r3c",
        "colab_type": "code",
        "colab": {}
      },
      "source": [
        "!gsutil ls gs://mnist-4/data\n",
        "!gsutil cp -r gs://mnist-4/data ."
      ],
      "execution_count": null,
      "outputs": []
    },
    {
      "cell_type": "code",
      "metadata": {
        "id": "55Cg5u3758Yt",
        "colab_type": "code",
        "colab": {}
      },
      "source": [
        "def read_tfrecord(serialized_example):\n",
        "  features = tf.io.parse_single_example(\n",
        "      serialized_example,\n",
        "      features={\n",
        "          'height': tf.io.FixedLenFeature([], tf.int64),\n",
        "          'width': tf.io.FixedLenFeature([], tf.int64),\n",
        "          'depth': tf.io.FixedLenFeature([], tf.int64),\n",
        "          'label': tf.io.FixedLenFeature([], tf.int64),\n",
        "          'image_raw': tf.io.FixedLenFeature([], tf.string),\n",
        "      })\n",
        "\n",
        "  image = tf.io.decode_raw(features[\"image_raw\"], tf.uint8)\n",
        "  image_shape = [features[\"height\"], features[\"width\"], features[\"depth\"]]\n",
        "  image = tf.reshape(image, image_shape)\n",
        "  image = tf.cast(image, tf.float32) * (1. / 255)\n",
        "  label = tf.cast(features['label'], tf.int32)\n",
        "\n",
        "  return image, label"
      ],
      "execution_count": null,
      "outputs": []
    },
    {
      "cell_type": "code",
      "metadata": {
        "id": "UmzHwZ0s_iOb",
        "colab_type": "code",
        "colab": {}
      },
      "source": [
        "def input_fn_train(filename, batch_size=64):\n",
        "  print(f\"train data dir: {filename}\")    \n",
        "  dataset = tf.data.TFRecordDataset([filename])\n",
        "  dataset = dataset.map(read_tfrecord)\n",
        "  dataset = dataset.shuffle(60000).batch(batch_size) \n",
        "  return dataset\n",
        "\n",
        "def input_fn_eval(filename, batch_size=64):\n",
        "  print(f\"eval data dir: {filename}\")    \n",
        "  dataset = tf.data.TFRecordDataset([filename])\n",
        "  dataset = dataset.map(read_tfrecord)\n",
        "  dataset = dataset.batch(batch_size) \n",
        "  return dataset"
      ],
      "execution_count": null,
      "outputs": []
    },
    {
      "cell_type": "code",
      "metadata": {
        "id": "qHhtAq-i_qNE",
        "colab_type": "code",
        "colab": {}
      },
      "source": [
        "def create_model():\n",
        "  model = tf.keras.models.Sequential([\n",
        "    tf.keras.layers.Conv2D(64, (3,3), activation=\"relu\", input_shape=(28, 28, 1)),\n",
        "    tf.keras.layers.MaxPooling2D(2, 2),\n",
        "    tf.keras.layers.Conv2D(64, (3,3), activation=\"relu\"),\n",
        "    tf.keras.layers.MaxPool2D(2, 2),\n",
        "    tf.keras.layers.Flatten(),\n",
        "    tf.keras.layers.Dense(128, activation=\"relu\"),\n",
        "    tf.keras.layers.Dense(10, activation=\"softmax\"),\n",
        "  ])\n",
        "\n",
        "  model.compile(optimizer=\"adam\", loss=\"sparse_categorical_crossentropy\", metrics=[\"accuracy\"])\n",
        "  print(model.summary())\n",
        "  return model"
      ],
      "execution_count": null,
      "outputs": []
    },
    {
      "cell_type": "code",
      "metadata": {
        "id": "4-9MwOPCAUgD",
        "colab_type": "code",
        "colab": {}
      },
      "source": [
        "strategy = tf.distribute.MirroredStrategy()"
      ],
      "execution_count": null,
      "outputs": []
    },
    {
      "cell_type": "code",
      "metadata": {
        "id": "UOzH5twRAqqC",
        "colab_type": "code",
        "colab": {}
      },
      "source": [
        "with strategy.scope():\n",
        "  model = create_model()"
      ],
      "execution_count": null,
      "outputs": []
    },
    {
      "cell_type": "code",
      "metadata": {
        "id": "49fj4IcaD0iB",
        "colab_type": "code",
        "colab": {}
      },
      "source": [
        "earlyStopping_callback = tf.keras.callbacks.EarlyStopping(monitor=\"loss\", patience=3)\n",
        "tensorboard_callback = tf.keras.callbacks.TensorBoard(log_dir=\"./logs\")"
      ],
      "execution_count": null,
      "outputs": []
    },
    {
      "cell_type": "code",
      "metadata": {
        "id": "zrn6T-sPA_mi",
        "colab_type": "code",
        "colab": {}
      },
      "source": [
        "model.fit(input_fn_train(\"data/train.tfrecords\"), \n",
        "          validation_data=input_fn_eval(\"data/test.tfrecords\"), \n",
        "          epochs=100, \n",
        "          verbose=1,\n",
        "          callbacks=[tensorboard_callback])"
      ],
      "execution_count": null,
      "outputs": []
    },
    {
      "cell_type": "code",
      "metadata": {
        "id": "vF7rLtrJBzH1",
        "colab_type": "code",
        "colab": {}
      },
      "source": [
        "%load_ext tensorboard\n",
        "%tensorboard --logdir ./logs"
      ],
      "execution_count": null,
      "outputs": []
    },
    {
      "cell_type": "code",
      "metadata": {
        "id": "7QrR1VB0Fa0Z",
        "colab_type": "code",
        "colab": {}
      },
      "source": [
        ""
      ],
      "execution_count": null,
      "outputs": []
    }
  ]
}